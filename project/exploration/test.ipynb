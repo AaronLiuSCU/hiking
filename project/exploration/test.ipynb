{
 "cells": [
  {
   "cell_type": "code",
   "execution_count": 84,
   "id": "bc9b3aff",
   "metadata": {},
   "outputs": [
    {
     "data": {
      "text/plain": [
       "<Element {http://www.topografix.com/GPX/1/1}metadata at 0x27a0004c140>"
      ]
     },
     "execution_count": 84,
     "metadata": {},
     "output_type": "execute_result"
    }
   ],
   "source": [
    "import os\n",
    "import re\n",
    "import pandas as pd\n",
    "from lxml import etree\n",
    "\n",
    "#removes encoding attribute. unfortunately python does not allow modifying strings in place\n",
    "def removeEncoding(xmlString):\n",
    "    remove = re.search(\"\\s+encoding\\s*\\=\\\".+\\\"\", xmlString)\n",
    "    if(remove == None):\n",
    "        return\n",
    "    remove = remove.group()\n",
    "    return xmlString.replace(remove, \"\")\n",
    "\n",
    "\n",
    "\n",
    "\n",
    "# Returns a xml root from gpx file if nameOfFile is inputted, or xml string containing a piece of data from .csv dataset\n",
    "def returnGPXData(nameOfFile):\n",
    "    path = '';\n",
    "    try:\n",
    "        path = os.path.abspath(os.path.dirname(__file__))\n",
    "    except:\n",
    "        try:\n",
    "            path = os.path.abspath(os.path.dirname(os.getcwd()))\n",
    "        except:\n",
    "            print('no file found')\n",
    "            raise FileNotFoundError(errno.ENOENT, os.strerror(errno.ENOENT), filename)\n",
    "    root = None\n",
    "    if nameOfFile == '':\n",
    "        path = os.path.join(path, \"data/gpx-tracks-from-hikr.org.csv\")\n",
    "        df = pd.read_csv(path)\n",
    "        parser = etree.XMLParser(recover=True)\n",
    "        gpxString = removeEncoding(df.gpx[0])\n",
    "        root = etree.fromstring(gpxString, parser)\n",
    "    else:\n",
    "        path = os.path.join(path, \"inputData/\"+nameOfFile)\n",
    "        root = etree.parse(path).getroot()\n",
    "    return root\n",
    "    # df = df.drop(['_id', 'user', 'start_time', 'end_time', 'max_elevation','max_speed', 'url'], axis = 1)\n",
    "\n",
    "xmlroot = returnGPXData(\"\")\n",
    "xmlroot[0]"
   ]
  },
  {
   "cell_type": "code",
   "execution_count": 147,
   "id": "cbe8ec62",
   "metadata": {
    "scrolled": true
   },
   "outputs": [
    {
     "name": "stdout",
     "output_type": "stream",
     "text": [
      ".//{http://www.topografix.com/GPX/1/1}trkseg\n"
     ]
    },
    {
     "data": {
      "text/plain": [
       "[(47.231143, 13.227007),\n",
       " (47.230543, 13.227488),\n",
       " (47.230637, 13.22651),\n",
       " (47.231071, 13.225765),\n",
       " (47.231073, 13.225428),\n",
       " (47.230656, 13.225163),\n",
       " (47.230587, 13.224844),\n",
       " (47.230826, 13.224273),\n",
       " (47.230635, 13.223317),\n",
       " (47.229305, 13.222854),\n",
       " (47.228854, 13.222966),\n",
       " (47.228181, 13.222722),\n",
       " (47.227217, 13.221808),\n",
       " (47.225917, 13.221162),\n",
       " (47.225476, 13.218573),\n",
       " (47.224929, 13.216738),\n",
       " (47.224808, 13.214401),\n",
       " (47.223686, 13.215468),\n",
       " (47.222887, 13.216703),\n",
       " (47.222656, 13.216715),\n",
       " (47.220997, 13.218953),\n",
       " (47.22038, 13.219344),\n",
       " (47.220231, 13.219971),\n",
       " (47.219865, 13.220417),\n",
       " (47.220034, 13.221048),\n",
       " (47.21909, 13.223006),\n",
       " (47.219014, 13.223955),\n",
       " (47.218593, 13.224725),\n",
       " (47.217843, 13.22549),\n",
       " (47.215832, 13.22614),\n",
       " (47.213761, 13.225936),\n",
       " (47.212827, 13.224948),\n",
       " (47.212152, 13.224835),\n",
       " (47.212505, 13.22529),\n",
       " (47.211863, 13.225672),\n",
       " (47.211146, 13.226522),\n",
       " (47.211239, 13.227162),\n",
       " (47.211634, 13.227489),\n",
       " (47.211478, 13.228106),\n",
       " (47.211727, 13.229051),\n",
       " (47.211262, 13.230573),\n",
       " (47.211715, 13.231726),\n",
       " (47.212182, 13.232424),\n",
       " (47.21307, 13.23263),\n",
       " (47.212927, 13.232886),\n",
       " (47.212921, 13.235834),\n",
       " (47.213503, 13.237204),\n",
       " (47.213463, 13.238854),\n",
       " (47.213088, 13.23966),\n",
       " (47.212827, 13.241276),\n",
       " (47.212815, 13.241934),\n",
       " (47.21314, 13.242345),\n",
       " (47.21333, 13.242523),\n",
       " (47.213306, 13.242274),\n",
       " (47.212782, 13.241541),\n",
       " (47.213134, 13.239576),\n",
       " (47.213531, 13.238747),\n",
       " (47.213458, 13.237439),\n",
       " (47.213564, 13.237127),\n",
       " (47.212963, 13.235683),\n",
       " (47.212794, 13.234058),\n",
       " (47.21304, 13.233488),\n",
       " (47.212911, 13.23283),\n",
       " (47.212139, 13.232261),\n",
       " (47.212092, 13.231926),\n",
       " (47.211356, 13.230645),\n",
       " (47.211349, 13.230308),\n",
       " (47.211695, 13.229416),\n",
       " (47.211738, 13.228729),\n",
       " (47.211518, 13.228137),\n",
       " (47.211599, 13.22747),\n",
       " (47.211109, 13.226805),\n",
       " (47.2115, 13.226004),\n",
       " (47.21256, 13.225345),\n",
       " (47.213647, 13.225887),\n",
       " (47.216398, 13.226084),\n",
       " (47.218155, 13.225299),\n",
       " (47.218945, 13.224082),\n",
       " (47.219201, 13.223142),\n",
       " (47.219404, 13.223068),\n",
       " (47.219181, 13.223086),\n",
       " (47.219711, 13.222415),\n",
       " (47.220143, 13.222244),\n",
       " (47.220587, 13.222445),\n",
       " (47.220849, 13.222997),\n",
       " (47.220055, 13.225029),\n",
       " (47.220271, 13.225611),\n",
       " (47.219869, 13.227531),\n",
       " (47.219904, 13.22856),\n",
       " (47.220276, 13.22941),\n",
       " (47.2202, 13.230083),\n",
       " (47.219837, 13.230494),\n",
       " (47.220033, 13.230667),\n",
       " (47.220259, 13.230655),\n",
       " (47.220834, 13.230058),\n",
       " (47.220949, 13.229078),\n",
       " (47.221448, 13.228384),\n",
       " (47.221899, 13.22725),\n",
       " (47.223459, 13.225822),\n",
       " (47.223583, 13.225533),\n",
       " (47.223499, 13.224868),\n",
       " (47.224093, 13.225867),\n",
       " (47.224001, 13.227516),\n",
       " (47.224409, 13.227711),\n",
       " (47.224826, 13.22741),\n",
       " (47.224922, 13.227111),\n",
       " (47.22456, 13.229448),\n",
       " (47.226099, 13.228786),\n",
       " (47.226999, 13.227721),\n",
       " (47.227242, 13.227162),\n",
       " (47.227851, 13.226715),\n",
       " (47.228758, 13.226417),\n",
       " (47.229962, 13.224871),\n",
       " (47.23042, 13.224851),\n",
       " (47.230664, 13.225396),\n",
       " (47.230889, 13.225442),\n",
       " (47.230412, 13.227277),\n",
       " (47.230534, 13.227554),\n",
       " (47.23103, 13.226896)]"
      ]
     },
     "execution_count": 147,
     "metadata": {},
     "output_type": "execute_result"
    }
   ],
   "source": [
    "from lxml import etree\n",
    "import os\n",
    "import sys\n",
    "path = os.path.abspath(os.path.dirname(os.getcwd()))\n",
    "path = os.path.join(path, 'scripts')\n",
    "sys.path.append(path)\n",
    "import projectDataModRetrieve as dataProcessing\n",
    "import projectAvgHikingTime as AHT\n",
    "from importlib import reload\n",
    "\n",
    "dataProcessing = reload(dataProcessing)\n",
    "AHT = reload(AHT)\n",
    "xml1 = dataProcessing.returnGPXData(\"\")\n",
    "AHT.extractPointsElevation(xml1)\n",
    "# AHT.calcAvgHikingTime(xml1)\n"
   ]
  },
  {
   "cell_type": "code",
   "execution_count": 133,
   "id": "ffc7b6ea",
   "metadata": {},
   "outputs": [
    {
     "data": {
      "text/plain": [
       "[{'elevation': -3492,\n",
       "  'location': {'lat': 0, 'lng': 0},\n",
       "  'resolution': 610.8129272460938}]"
      ]
     },
     "execution_count": 133,
     "metadata": {},
     "output_type": "execute_result"
    }
   ],
   "source": [
    "import os\n",
    "import sys\n",
    "path = os.path.abspath(os.path.dirname(os.getcwd()))\n",
    "path = os.path.join(path, 'scripts')\n",
    "sys.path.append(path)\n",
    "import projectqsm as qsm\n",
    "from importlib import reload\n",
    "qsm = reload(qsm)\n",
    "qsm.test()"
   ]
  },
  {
   "cell_type": "code",
   "execution_count": 143,
   "id": "20aef363",
   "metadata": {},
   "outputs": [
    {
     "data": {
      "text/plain": [
       "0.08113757746657556"
      ]
     },
     "execution_count": 143,
     "metadata": {},
     "output_type": "execute_result"
    }
   ],
   "source": [
    "import os\n",
    "import sys\n",
    "path = os.path.abspath(os.path.dirname(os.getcwd()))\n",
    "path = os.path.join(path, 'scripts')\n",
    "sys.path.append(path)\n",
    "import projectqsm\n",
    "from importlib import reload\n",
    "projectqsm = reload(projectqsm)\n",
    "\n",
    "\n",
    "projectqsm.distance((45.6417126394808, 10.593461617827415),\n",
    "  (45.642390148714185, 10.593849197030067),0)"
   ]
  },
  {
   "cell_type": "code",
   "execution_count": null,
   "id": "42a04cb5",
   "metadata": {},
   "outputs": [],
   "source": []
  },
  {
   "cell_type": "code",
   "execution_count": null,
   "id": "8416ad60",
   "metadata": {},
   "outputs": [],
   "source": []
  }
 ],
 "metadata": {
  "kernelspec": {
   "display_name": "Python 3 (ipykernel)",
   "language": "python",
   "name": "python3"
  },
  "language_info": {
   "codemirror_mode": {
    "name": "ipython",
    "version": 3
   },
   "file_extension": ".py",
   "mimetype": "text/x-python",
   "name": "python",
   "nbconvert_exporter": "python",
   "pygments_lexer": "ipython3",
   "version": "3.10.8"
  }
 },
 "nbformat": 4,
 "nbformat_minor": 5
}
